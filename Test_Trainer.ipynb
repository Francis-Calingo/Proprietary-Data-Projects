{
  "nbformat": 4,
  "nbformat_minor": 0,
  "metadata": {
    "colab": {
      "provenance": []
    },
    "kernelspec": {
      "name": "python3",
      "display_name": "Python 3"
    },
    "language_info": {
      "name": "python"
    }
  },
  "cells": [
    {
      "cell_type": "markdown",
      "source": [
        "# Notebook to Test Trainer Notebook"
      ],
      "metadata": {
        "id": "mxyRkMu1jyAA"
      }
    },
    {
      "cell_type": "markdown",
      "source": [
        "Cell below: script from trainer.py (certain parts redacted to maintain proprietary nature)"
      ],
      "metadata": {
        "id": "JF8smqO7BK5d"
      }
    },
    {
      "cell_type": "code",
      "execution_count": null,
      "metadata": {
        "id": "xW_BQzvq9Mpi"
      },
      "outputs": [],
      "source": [
        "from typing import Dict, Any, Optional\n",
        "import torch\n",
        "import torch.nn as nn\n",
        "#from ..utils.logging import get_logger\n",
        "\n",
        "def get_logger(name):\n",
        "    class DummyLogger:\n",
        "        def info(self, msg):\n",
        "            print(f\"[{name}] {msg}\")\n",
        "    return DummyLogger()\n",
        "\n",
        "logger = get_logger(__name__)\n",
        "\n",
        "class ModelTrainer:\n",
        "    \"\"\"Handles model training and evaluation.\"\"\"\n",
        "\n",
        "    def __init__(self, model: nn.Module, config: Dict[str, Any]):\n",
        "        #####---REDACTED---#####\n",
        "        logger.info(\"Initialized ModelTrainer\")\n",
        "\n",
        "    def train(self,\n",
        "             train_loader: torch.utils.data.DataLoader,\n",
        "             val_loader: torch.utils.data.DataLoader,\n",
        "             num_epochs: int,\n",
        "             save_path: str) -> Dict[str, float]:\n",
        "        #####---REDACTED---#####\n",
        "        logger.info(f\"Starting training for {num_epochs} epochs\")\n",
        "        pass\n",
        "\n",
        "    def evaluate(self,\n",
        "                val_loader: torch.utils.data.DataLoader) -> Dict[str, float]:\n",
        "        #####---REDACTED---#####\n",
        "        logger.info(\"Starting model evaluation\")\n",
        "        pass"
      ]
    },
    {
      "cell_type": "markdown",
      "source": [
        "Cells below: Script for unit testing with pytest"
      ],
      "metadata": {
        "id": "a59tC4gDBtxK"
      }
    },
    {
      "cell_type": "code",
      "source": [
        "import pytest\n",
        "import torch\n",
        "import torch.nn as nn\n",
        "\n",
        "# The ModelTrainer class is already defined in the previous cell"
      ],
      "metadata": {
        "id": "OTR0VkJ1Bzro"
      },
      "execution_count": null,
      "outputs": []
    },
    {
      "cell_type": "code",
      "source": [
        "# Create dummy dataset of 10 samples, each sample containing an a row 10 random numbers, and 1 label\n",
        "class DummyDataset(torch.utils.data.Dataset):\n",
        "    def __len__(self):\n",
        "        return 10\n",
        "    def __getitem__(self, idx):\n",
        "        return torch.randn(1, 10), torch.tensor(1)\n",
        "\n",
        "# Create dummy model for testing (10 input features and 1 output)\n",
        "class DummyModel(nn.Module):\n",
        "    def __init__(self):\n",
        "        super().__init__()\n",
        "        self.linear = nn.Linear(10, 1)\n",
        "    def forward(self, x):\n",
        "        return self.linear(x)\n",
        "\n",
        "# Start unit testing\n",
        "@pytest.fixture\n",
        "def setup_trainer():\n",
        "  # Give the trainer a new dummy model and an empty config\n",
        "    model = DummyModel()\n",
        "    config = {}\n",
        "    trainer = ModelTrainer(model, config)\n",
        "    return trainer, model, config\n",
        "\n",
        "def test_init(setup_trainer):\n",
        "  # Test __init__\n",
        "    trainer, model, config = setup_trainer\n",
        "    assert trainer.model == model\n",
        "    assert trainer.config == config\n",
        "\n",
        "def test_train_returns_none(setup_trainer):\n",
        "  # Test train\n",
        "    trainer, _, _ = setup_trainer\n",
        "    train_loader = torch.utils.data.DataLoader(DummyDataset(), batch_size=2)\n",
        "    val_loader = torch.utils.data.DataLoader(DummyDataset(), batch_size=2)\n",
        "    result = trainer.train(train_loader, val_loader, num_epochs=1, save_path=\"model.pth\")\n",
        "    assert result is None\n",
        "\n",
        "def test_evaluate_returns_none(setup_trainer):\n",
        "  # Test evaluate\n",
        "    trainer, _, _ = setup_trainer\n",
        "    val_loader = torch.utils.data.DataLoader(DummyDataset(), batch_size=2)\n",
        "    result = trainer.evaluate(val_loader)\n",
        "    assert result is None"
      ],
      "metadata": {
        "id": "V-Ov-X3hCDSI"
      },
      "execution_count": null,
      "outputs": []
    },
    {
      "cell_type": "markdown",
      "source": [
        "Cells below: putting above scripts in a test_trainer.py file then checking test results"
      ],
      "metadata": {
        "id": "v4gtyWvkRWRj"
      }
    },
    {
      "cell_type": "code",
      "source": [
        "with open(\"test_trainer.py\", \"w\") as f:\n",
        "    f.write('''\n",
        "######======Original trainer.py script (certain parts redacted)======######\n",
        "\n",
        "from typing import Dict, Any, Optional\n",
        "import torch\n",
        "import torch.nn as nn\n",
        "#from ..utils.logging import get_logger\n",
        "\n",
        "def get_logger(name):\n",
        "    class DummyLogger:\n",
        "        def info(self, msg):\n",
        "            print(f\"[{name}] {msg}\")\n",
        "    return DummyLogger()\n",
        "\n",
        "logger = get_logger(__name__)\n",
        "\n",
        "class ModelTrainer:\n",
        "    \"\"\"Handles model training and evaluation.\"\"\"\n",
        "\n",
        "    def __init__(self, model: nn.Module, config: Dict[str, Any]):\n",
        "        #####---REDACTED---#####\n",
        "        logger.info(\"Initialized ModelTrainer\")\n",
        "\n",
        "    def train(self,\n",
        "             train_loader: torch.utils.data.DataLoader,\n",
        "             val_loader: torch.utils.data.DataLoader,\n",
        "             num_epochs: int,\n",
        "             save_path: str) -> Dict[str, float]:\n",
        "        #####---REDACTED---#####\n",
        "        logger.info(f\"Starting training for {num_epochs} epochs\")\n",
        "        pass\n",
        "\n",
        "    def evaluate(self,\n",
        "                val_loader: torch.utils.data.DataLoader) -> Dict[str, float]:\n",
        "        #####---REDACTED---#####\n",
        "        logger.info(\"Starting model evaluation\")\n",
        "        pass\n",
        "\n",
        "######======Script for unit testing with pytest======######\n",
        "\n",
        "import pytest\n",
        "import torch\n",
        "import torch.nn as nn\n",
        "\n",
        "# The ModelTrainer class is already defined in the previous cell\n",
        "\n",
        "\n",
        "# Create dummy dataset of 10 samples, each sample containing an a row 10 random numbers, and 1 label\n",
        "class DummyDataset(torch.utils.data.Dataset):\n",
        "    def __len__(self):\n",
        "        return 10\n",
        "    def __getitem__(self, idx):\n",
        "        return torch.randn(1, 10), torch.tensor(1)\n",
        "\n",
        "# Create dummy model for testing (10 input features and 1 output)\n",
        "class DummyModel(nn.Module):\n",
        "    def __init__(self):\n",
        "        super().__init__()\n",
        "        self.linear = nn.Linear(10, 1)\n",
        "    def forward(self, x):\n",
        "        return self.linear(x)\n",
        "\n",
        "# Start unit testing\n",
        "@pytest.fixture\n",
        "def setup_trainer():\n",
        "  # Give the trainer a new dummy model and an empty config\n",
        "    model = DummyModel()\n",
        "    config = {}\n",
        "    trainer = ModelTrainer(model, config)\n",
        "    return trainer, model, config\n",
        "\n",
        "def test_init(setup_trainer):\n",
        "  # Test __init__\n",
        "    trainer, model, config = setup_trainer\n",
        "    assert trainer.model == model\n",
        "    assert trainer.config == config\n",
        "\n",
        "def test_train_returns_none(setup_trainer):\n",
        "  # Test train\n",
        "    trainer, _, _ = setup_trainer\n",
        "    train_loader = torch.utils.data.DataLoader(DummyDataset(), batch_size=2)\n",
        "    val_loader = torch.utils.data.DataLoader(DummyDataset(), batch_size=2)\n",
        "    result = trainer.train(train_loader, val_loader, num_epochs=1, save_path=\"model.pth\")\n",
        "    assert result is None\n",
        "\n",
        "def test_evaluate_returns_none(setup_trainer):\n",
        "  # Test evaluate\n",
        "    trainer, _, _ = setup_trainer\n",
        "    val_loader = torch.utils.data.DataLoader(DummyDataset(), batch_size=2)\n",
        "    result = trainer.evaluate(val_loader)\n",
        "    assert result is None\n",
        "    ''')"
      ],
      "metadata": {
        "id": "G2C452wzRl20"
      },
      "execution_count": null,
      "outputs": []
    },
    {
      "cell_type": "code",
      "source": [
        "!pytest test_trainer.py --maxfail=1 --disable-warnings -q"
      ],
      "metadata": {
        "colab": {
          "base_uri": "https://localhost:8080/"
        },
        "id": "Hh3tsxoHRpZK",
        "outputId": "0a741857-372e-49e2-fa44-0752a62aa71f"
      },
      "execution_count": null,
      "outputs": [
        {
          "output_type": "stream",
          "name": "stdout",
          "text": [
            "\u001b[32m.\u001b[0m\u001b[32m.\u001b[0m\u001b[32m.\u001b[0m\u001b[32m                                                                      [100%]\u001b[0m\n",
            "\u001b[32m\u001b[32m\u001b[1m3 passed\u001b[0m\u001b[32m in 2.72s\u001b[0m\u001b[0m\n"
          ]
        }
      ]
    }
  ]
}